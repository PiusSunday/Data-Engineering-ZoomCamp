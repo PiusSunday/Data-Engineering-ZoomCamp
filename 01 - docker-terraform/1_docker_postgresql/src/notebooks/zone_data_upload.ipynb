{
 "cells": [
  {
   "metadata": {},
   "cell_type": "markdown",
   "source": "# Zone Data Upload",
   "id": "c8c1297662f1a02e"
  },
  {
   "metadata": {},
   "cell_type": "code",
   "source": [
    "# Import necessary libraries\n",
    "import os\n",
    "import pandas as pd\n",
    "from sqlalchemy import create_engine"
   ],
   "id": "e1f8e5112c810a69",
   "outputs": [],
   "execution_count": null
  },
  {
   "metadata": {},
   "cell_type": "code",
   "source": [
    "# Define the path to the dataset folder\n",
    "dataset_folder = '/Users/sunnythesage/PythonProjects/Data-Engineering-BootCamp/01 - docker-terraform/1_docker_postgresql/src/dataset'\n",
    "\n",
    "# Step 1: Download the CSV file into the dataset folder\n",
    "# os.system(f\"wget -P \\\"{dataset_folder}\\\" https://d37ci6vzurychx.cloudfront.net/misc/taxi_zone_lookup.csv\")"
   ],
   "id": "ad1a78d16e925777",
   "outputs": [],
   "execution_count": null
  },
  {
   "metadata": {},
   "cell_type": "code",
   "source": [
    "# Step 2: Read the CSV file\n",
    "df_zones = pd.read_csv(f'{dataset_folder}/taxi_zone_lookup.csv')"
   ],
   "id": "8791e66bb4d68c7c",
   "outputs": [],
   "execution_count": null
  },
  {
   "metadata": {},
   "cell_type": "code",
   "source": [
    "# Step 3: Display the first few rows of the DataFrame\n",
    "print(df_zones.head())"
   ],
   "id": "9acb101ab0796f93",
   "outputs": [],
   "execution_count": null
  },
  {
   "metadata": {},
   "cell_type": "code",
   "source": "df_zones.shape",
   "id": "5885a622590221fb",
   "outputs": [],
   "execution_count": null
  },
  {
   "metadata": {},
   "cell_type": "code",
   "source": [
    "# Step 4: Create a SQLAlchemy engine to connect to PostgreSQL\n",
    "# Replace the following with your actual connection details\n",
    "user = 'root'\n",
    "password = 'root'\n",
    "host = 'localhost'  # Use the service name defined in your docker-compose\n",
    "port = '5432'\n",
    "db = 'nyc_tlc_trd'"
   ],
   "id": "d36a8bbc16b2f4da",
   "outputs": [],
   "execution_count": null
  },
  {
   "metadata": {},
   "cell_type": "code",
   "source": [
    "# Create the SQLAlchemy engine\n",
    "engine = create_engine(f'postgresql://{user}:{password}@{host}:{port}/{db}')"
   ],
   "id": "b0e91a69d364c685",
   "outputs": [],
   "execution_count": null
  },
  {
   "metadata": {},
   "cell_type": "code",
   "source": [
    "# Step 5: Import the DataFrame into PostgreSQL\n",
    "df_zones.to_sql(name='zones', con=engine, if_exists='replace')"
   ],
   "id": "23c90b3c7dafe29e",
   "outputs": [],
   "execution_count": null
  },
  {
   "metadata": {},
   "cell_type": "code",
   "source": "print(\"Data imported successfully into the 'zones' table.\")",
   "id": "2a9edf1d387684d4",
   "outputs": [],
   "execution_count": null
  }
 ],
 "metadata": {
  "kernelspec": {
   "display_name": "Python 3",
   "language": "python",
   "name": "python3"
  },
  "language_info": {
   "codemirror_mode": {
    "name": "ipython",
    "version": 2
   },
   "file_extension": ".py",
   "mimetype": "text/x-python",
   "name": "python",
   "nbconvert_exporter": "python",
   "pygments_lexer": "ipython2",
   "version": "2.7.6"
  }
 },
 "nbformat": 4,
 "nbformat_minor": 5
}
